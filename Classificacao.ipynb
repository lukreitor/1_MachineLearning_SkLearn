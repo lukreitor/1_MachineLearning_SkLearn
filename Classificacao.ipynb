{
  "nbformat": 4,
  "nbformat_minor": 0,
  "metadata": {
    "colab": {
      "provenance": [],
      "authorship_tag": "ABX9TyMPGwm0A5eVmoG7zMDJCnMN",
      "include_colab_link": true
    },
    "kernelspec": {
      "name": "python3",
      "display_name": "Python 3"
    },
    "language_info": {
      "name": "python"
    }
  },
  "cells": [
    {
      "cell_type": "markdown",
      "metadata": {
        "id": "view-in-github",
        "colab_type": "text"
      },
      "source": [
        "<a href=\"https://colab.research.google.com/github/lukreitor/1_MachineLearning_SkLearn/blob/main/Classificacao.ipynb\" target=\"_parent\"><img src=\"https://colab.research.google.com/assets/colab-badge.svg\" alt=\"Open In Colab\"/></a>"
      ]
    },
    {
      "cell_type": "code",
      "execution_count": 1,
      "metadata": {
        "id": "XoHqDQd0iXAu"
      },
      "outputs": [],
      "source": [
        "# features (1 - sim, 0 não)\n",
        "# pelo longo?\n",
        "# perna curta?\n",
        "# faz auau?\n",
        "porco1 = [0, 1, 0]\n",
        "porco2 = [0, 1, 1]\n",
        "porco3 = [1, 1, 0]\n",
        "\n",
        "cachorro1 = [0, 1, 1]\n",
        "cachorro2 = [1, 0, 1]\n",
        "cachorro3 = [1, 1, 1]\n",
        "\n",
        "# 1 = porco, 0 = cachorro\n",
        "train_x = [porco1, porco2, porco3, cachorro1, cachorro2, cachorro3]\n",
        "train_y = [1, 1, 1, 0, 0, 0]\n"
      ]
    },
    {
      "cell_type": "code",
      "source": [
        "from sklearn.svm import LinearSVC\n",
        "model = LinearSVC()\n",
        "model.fit(train_x, train_y)"
      ],
      "metadata": {
        "colab": {
          "base_uri": "https://localhost:8080/"
        },
        "id": "PWjRFDFdnTVQ",
        "outputId": "0c36fbc1-ed9c-4ad1-c060-ca7320079dfb"
      },
      "execution_count": 2,
      "outputs": [
        {
          "output_type": "execute_result",
          "data": {
            "text/plain": [
              "LinearSVC()"
            ]
          },
          "metadata": {},
          "execution_count": 2
        }
      ]
    },
    {
      "cell_type": "code",
      "source": [
        "animal_misterioso1 = [1, 1, 1]\n",
        "animal_misterioso2 = [1, 1, 0]\n",
        "animal_misterioso3 = [0, 1, 1]\n",
        "animal_misterioso4 = [1, 0, 1]\n",
        "\n",
        "# give me the text the first animal is and so on\n",
        "test_x = [animal_misterioso1, animal_misterioso2, animal_misterioso3, animal_misterioso4]\n",
        "test_y = [0, 1, 1, 1]\n"
      ],
      "metadata": {
        "id": "I05RJdAjnppf"
      },
      "execution_count": 3,
      "outputs": []
    },
    {
      "cell_type": "code",
      "source": [
        "previsoes = model.predict(test_x)\n",
        "print(model.predict([animal_misterioso1, animal_misterioso2, animal_misterioso3, animal_misterioso4]))"
      ],
      "metadata": {
        "colab": {
          "base_uri": "https://localhost:8080/"
        },
        "id": "zN4oSIK2qU4x",
        "outputId": "af91bb8c-7ad7-4c53-aef4-9bcda20054c6"
      },
      "execution_count": 4,
      "outputs": [
        {
          "output_type": "stream",
          "name": "stdout",
          "text": [
            "[0 1 0 0]\n"
          ]
        }
      ]
    },
    {
      "cell_type": "code",
      "source": [
        "corretos = (previsoes == test_y).sum()\n",
        "total = len(test_x)\n",
        "taxa_de_acerto = corretos / total\n",
        "print(\"Taxa de acerto %.2f\" % (taxa_de_acerto * 100), \"%\")"
      ],
      "metadata": {
        "colab": {
          "base_uri": "https://localhost:8080/"
        },
        "id": "xtU3Tmg5rq2z",
        "outputId": "2b193e3f-6f7e-4cc9-dd80-7e3904fa304e"
      },
      "execution_count": 7,
      "outputs": [
        {
          "output_type": "stream",
          "name": "stdout",
          "text": [
            "Taxa de acerto 50.00 %\n"
          ]
        }
      ]
    },
    {
      "cell_type": "code",
      "source": [
        "from sklearn.metrics import accuracy_score\n",
        "\n",
        "taxa_de_acerto = accuracy_score(test_y, previsoes)\n",
        "print(\"Taxa de acerto %.2f\" % (taxa_de_acerto * 100), \"%\")"
      ],
      "metadata": {
        "colab": {
          "base_uri": "https://localhost:8080/"
        },
        "id": "TG5lS8-os0hm",
        "outputId": "9da67ab6-108d-4b93-c6c3-4cb4943b91b8"
      },
      "execution_count": 8,
      "outputs": [
        {
          "output_type": "stream",
          "name": "stdout",
          "text": [
            "Taxa de acerto 50.00 %\n"
          ]
        }
      ]
    }
  ]
}